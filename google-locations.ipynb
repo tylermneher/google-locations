{
 "cells": [
  {
   "cell_type": "code",
   "execution_count": 1,
   "id": "d49a8c07",
   "metadata": {},
   "outputs": [],
   "source": [
    "import os\n",
    "import pandas as pd\n",
    "import geopandas\n",
    "# from geodatasets import get_path\n",
    "import json\n",
    "import sys"
   ]
  },
  {
   "cell_type": "code",
   "execution_count": 46,
   "id": "2a3e06ce",
   "metadata": {},
   "outputs": [
    {
     "data": {
      "text/plain": [
       "{'latitudeE7': 404151468,\n",
       " 'longitudeE7': -741586153,\n",
       " 'accuracy': 10,\n",
       " 'deviceTag': 315281513,\n",
       " 'timestamp': '2019-05-13T00:07:33.118Z'}"
      ]
     },
     "execution_count": 46,
     "metadata": {},
     "output_type": "execute_result"
    }
   ],
   "source": [
    "df = pd.read_json('Records.json')\n",
    "f = open('Records.json')\n",
    "data = json.load(f)\n",
    "\n",
    "\n",
    "cols = []\n",
    "cols = list(df['locations'][4].keys())\n",
    "cols\n",
    "\n",
    "data['locations'][0]"
   ]
  },
  {
   "cell_type": "code",
   "execution_count": 53,
   "id": "2bf03a9b",
   "metadata": {},
   "outputs": [
    {
     "ename": "TypeError",
     "evalue": "index expected at least 1 argument, got 0",
     "output_type": "error",
     "traceback": [
      "\u001b[0;31m---------------------------------------------------------------------------\u001b[0m",
      "\u001b[0;31mTypeError\u001b[0m                                 Traceback (most recent call last)",
      "Cell \u001b[0;32mIn[53], line 11\u001b[0m\n\u001b[1;32m      6\u001b[0m timestamp \u001b[38;5;241m=\u001b[39m []\n\u001b[1;32m      8\u001b[0m individual_obs \u001b[38;5;241m=\u001b[39m data[\u001b[38;5;124m'\u001b[39m\u001b[38;5;124mlocations\u001b[39m\u001b[38;5;124m'\u001b[39m]\n\u001b[0;32m---> 11\u001b[0m \u001b[38;5;28;01mfor\u001b[39;00m i \u001b[38;5;129;01min\u001b[39;00m \u001b[43mindividual_obs\u001b[49m\u001b[38;5;241;43m.\u001b[39;49m\u001b[43mindex\u001b[49m\u001b[43m(\u001b[49m\u001b[43m)\u001b[49m:\n\u001b[1;32m     12\u001b[0m     \u001b[38;5;28mprint\u001b[39m(individual_obs)\n\u001b[1;32m     15\u001b[0m \u001b[38;5;66;03m# for i in df['locations']:\u001b[39;00m\n\u001b[1;32m     16\u001b[0m     \n\u001b[1;32m     17\u001b[0m \u001b[38;5;66;03m#     latitudeE7.append(record[0])\u001b[39;00m\n\u001b[0;32m   (...)\u001b[0m\n\u001b[1;32m     21\u001b[0m \u001b[38;5;66;03m#     deviceTag.append(record[4])\u001b[39;00m\n\u001b[1;32m     22\u001b[0m \u001b[38;5;66;03m# #     timestamp.append(record[5])\u001b[39;00m\n",
      "\u001b[0;31mTypeError\u001b[0m: index expected at least 1 argument, got 0"
     ]
    }
   ],
   "source": [
    "latitudeE7 = []\n",
    "longitudeE7 = []\n",
    "accuracy = []\n",
    "source = []\n",
    "deviceTag = []\n",
    "timestamp = []\n",
    "\n",
    "individual_obs = data['locations']\n",
    "\n",
    "\n",
    "for i in individual_obs.index():\n",
    "    print(individual_obs)\n",
    "    \n",
    "\n",
    "# for i in df['locations']:\n",
    "    \n",
    "#     latitudeE7.append(record[0])\n",
    "#     longitudeE7.append(record[1])\n",
    "#     accuracy.append(record[2])\n",
    "#     source.append(record[3])\n",
    "#     deviceTag.append(record[4])\n",
    "# #     timestamp.append(record[5])"
   ]
  },
  {
   "cell_type": "code",
   "execution_count": null,
   "id": "1e89b095",
   "metadata": {},
   "outputs": [
    {
     "name": "stderr",
     "output_type": "stream",
     "text": [
      "IOPub data rate exceeded.\n",
      "The notebook server will temporarily stop sending output\n",
      "to the client in order to avoid crashing it.\n",
      "To change this limit, set the config variable\n",
      "`--NotebookApp.iopub_data_rate_limit`.\n",
      "\n",
      "Current values:\n",
      "NotebookApp.iopub_data_rate_limit=1000000.0 (bytes/sec)\n",
      "NotebookApp.rate_limit_window=3.0 (secs)\n",
      "\n"
     ]
    }
   ],
   "source": [
    "for i in df['locations']:\n",
    "    record = list(i.values())\n",
    "    count = len(record)\n",
    "    print(count)\n",
    "    if count == 6:\n",
    "        print(list(df['locations'].keys()))\n",
    "    else:\n",
    "        pass\n",
    "    \n",
    "#     for count, key in enumerate(list(df['locations'][i].keys())):\n",
    "#         print(count, key)"
   ]
  },
  {
   "cell_type": "code",
   "execution_count": null,
   "id": "92a0c2c1",
   "metadata": {},
   "outputs": [],
   "source": [
    "loc_df = pd.DataFrame(data={cols[0]:latitudeE7,\n",
    "                            cols[1]:longitudeE7,\n",
    "                            cols[2]:accuracy,\n",
    "                            cols[3]:deviceTag,\n",
    "                            cols[4]:timestamp},\n",
    "                      columns=cols)\n",
    "loc_df"
   ]
  },
  {
   "cell_type": "code",
   "execution_count": null,
   "id": "f72d52c0",
   "metadata": {},
   "outputs": [],
   "source": [
    "# convert 'timestamp' col to true datetime64\n",
    "\n",
    "loc_df['timestamp'] = pd.to_datetime(loc_df['timestamp'], format='mixed')\n",
    "loc_df"
   ]
  },
  {
   "cell_type": "code",
   "execution_count": null,
   "id": "a6354f76",
   "metadata": {},
   "outputs": [],
   "source": []
  }
 ],
 "metadata": {
  "kernelspec": {
   "display_name": "Python 3 (ipykernel)",
   "language": "python",
   "name": "python3"
  },
  "language_info": {
   "codemirror_mode": {
    "name": "ipython",
    "version": 3
   },
   "file_extension": ".py",
   "mimetype": "text/x-python",
   "name": "python",
   "nbconvert_exporter": "python",
   "pygments_lexer": "ipython3",
   "version": "3.11.3"
  }
 },
 "nbformat": 4,
 "nbformat_minor": 5
}
