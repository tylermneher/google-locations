{
 "cells": [
  {
   "cell_type": "code",
   "execution_count": null,
   "id": "d49a8c07",
   "metadata": {},
   "outputs": [],
   "source": [
    "import os\n",
    "import pandas as pd\n",
    "import geopandas\n",
    "# from geodatasets import get_path\n",
    "import json\n",
    "import sys"
   ]
  },
  {
   "cell_type": "code",
   "execution_count": 14,
   "id": "2a3e06ce",
   "metadata": {},
   "outputs": [
    {
     "data": {
      "text/plain": [
       "['latitudeE7', 'longitudeE7', 'accuracy', 'source', 'deviceTag', 'timestamp']"
      ]
     },
     "execution_count": 14,
     "metadata": {},
     "output_type": "execute_result"
    }
   ],
   "source": [
    "df = pd.read_json('Records.json')\n",
    "\n",
    "cols = []\n",
    "cols = list(df['locations'][4].keys())\n",
    "cols"
   ]
  },
  {
   "cell_type": "code",
   "execution_count": 5,
   "id": "2bf03a9b",
   "metadata": {},
   "outputs": [],
   "source": [
    "latitudeE7 = []\n",
    "longitudeE7 = []\n",
    "accuracy = []\n",
    "source = []\n",
    "deviceTag = []\n",
    "timestamp = []\n",
    "\n",
    "\n",
    "# for i in df['locations']:\n",
    "    \n",
    "#     latitudeE7.append(record[0])\n",
    "#     longitudeE7.append(record[1])\n",
    "#     accuracy.append(record[2])\n",
    "#     source.append(record[3])\n",
    "#     deviceTag.append(record[4])\n",
    "# #     timestamp.append(record[5])"
   ]
  },
  {
   "cell_type": "code",
   "execution_count": null,
   "id": "1e89b095",
   "metadata": {},
   "outputs": [
    {
     "name": "stderr",
     "output_type": "stream",
     "text": [
      "IOPub data rate exceeded.\n",
      "The notebook server will temporarily stop sending output\n",
      "to the client in order to avoid crashing it.\n",
      "To change this limit, set the config variable\n",
      "`--NotebookApp.iopub_data_rate_limit`.\n",
      "\n",
      "Current values:\n",
      "NotebookApp.iopub_data_rate_limit=1000000.0 (bytes/sec)\n",
      "NotebookApp.rate_limit_window=3.0 (secs)\n",
      "\n"
     ]
    }
   ],
   "source": [
    "for i in df['locations']:\n",
    "    record = list(i.values())\n",
    "    count = len(record)\n",
    "    print(count)\n",
    "    if count == 6:\n",
    "        print(list(df['locations'].keys()))\n",
    "    else:\n",
    "        pass\n",
    "    \n",
    "#     for count, key in enumerate(list(df['locations'][i].keys())):\n",
    "#         print(count, key)"
   ]
  },
  {
   "cell_type": "code",
   "execution_count": null,
   "id": "92a0c2c1",
   "metadata": {},
   "outputs": [],
   "source": [
    "loc_df = pd.DataFrame(data={cols[0]:latitudeE7,\n",
    "                            cols[1]:longitudeE7,\n",
    "                            cols[2]:accuracy,\n",
    "                            cols[3]:deviceTag,\n",
    "                            cols[4]:timestamp},\n",
    "                      columns=cols)\n",
    "loc_df"
   ]
  },
  {
   "cell_type": "code",
   "execution_count": null,
   "id": "f72d52c0",
   "metadata": {},
   "outputs": [],
   "source": [
    "# convert 'timestamp' col to true datetime64\n",
    "\n",
    "loc_df['timestamp'] = pd.to_datetime(loc_df['timestamp'], format='mixed')\n",
    "loc_df"
   ]
  },
  {
   "cell_type": "code",
   "execution_count": null,
   "id": "a6354f76",
   "metadata": {},
   "outputs": [],
   "source": []
  }
 ],
 "metadata": {
  "kernelspec": {
   "display_name": "Python 3 (ipykernel)",
   "language": "python",
   "name": "python3"
  },
  "language_info": {
   "codemirror_mode": {
    "name": "ipython",
    "version": 3
   },
   "file_extension": ".py",
   "mimetype": "text/x-python",
   "name": "python",
   "nbconvert_exporter": "python",
   "pygments_lexer": "ipython3",
   "version": "3.11.3"
  }
 },
 "nbformat": 4,
 "nbformat_minor": 5
}
